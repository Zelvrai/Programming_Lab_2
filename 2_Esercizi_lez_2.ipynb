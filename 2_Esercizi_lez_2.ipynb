{
 "cells": [
  {
   "cell_type": "markdown",
   "metadata": {},
   "source": [
    "### **1. Indicizzazione booleana**\n",
    "\n",
    "1. Creare un nuovo vettore con tutti i numeri primi tra 0 e 20. I numeri primi compresi tra 0 e 20 sono: **2, 3, 5, 7, 11, 13, 17, 19**.\n",
    "\n",
    "2. Utilizza un test logico (ad esempio `>`, `<`, `==`, `!=`) per **selezionare tutte le voci del vettore maggiori di 10**.\n",
    "\n",
    "3. Utilizza un test logico per selezionare **tutti i numeri primi pari** dalla lista.  \n"
   ]
  },
  {
   "cell_type": "code",
   "execution_count": 3,
   "metadata": {},
   "outputs": [
    {
     "name": "stdout",
     "output_type": "stream",
     "text": [
      "[ 2  3  5  7 11 13 17 19]\n",
      "[11 13 17 19]\n",
      "[2]\n"
     ]
    }
   ],
   "source": [
    "import numpy as np\n",
    "\n",
    "lista_primi = [i for i in range(2, 20) if all(i % j != 0 for j in range(2, int((i)**0.5) + 1))]\n",
    "vett = np.array(lista_primi)\n",
    "print(vett)\n",
    "print(vett[vett > 10])\n",
    "print(vett[vett % 2 == 0])"
   ]
  },
  {
   "cell_type": "markdown",
   "metadata": {},
   "source": [
    "### **2.  Operazioni su array**\n",
    "Crea un array **a**, 2D (senza digitarlo esplicitamente), e genera due nuovi array **b**, contenente la sua 2ª e 4ª riga, e **c** contenente solo la 3ª.  Dividi ogni colonna dell'array a, elemento per elemento, con l'array c."
   ]
  },
  {
   "cell_type": "code",
   "execution_count": 4,
   "metadata": {},
   "outputs": [
    {
     "name": "stdout",
     "output_type": "stream",
     "text": [
      "[[8 1 9 7]\n",
      " [1 5 3 9]\n",
      " [1 5 6 8]\n",
      " [6 1 2 3]]\n",
      "[[1 5 3 9]\n",
      " [6 1 2 3]]\n",
      "[[1 5 6 8]]\n",
      "[[8.         0.2        1.5        0.875     ]\n",
      " [1.         1.         0.5        1.125     ]\n",
      " [1.         1.         1.         1.        ]\n",
      " [6.         0.2        0.33333333 0.375     ]]\n"
     ]
    }
   ],
   "source": [
    "a = np.random.randint(1, 10, (4,4))\n",
    "print(a)\n",
    "\n",
    "b = a[[1, 3]]\n",
    "print(b)\n",
    "c = a[[2]]\n",
    "print (c)\n",
    "print(a/c)"
   ]
  },
  {
   "cell_type": "markdown",
   "metadata": {},
   "source": [
    "### **3. Seleziona il numero più vicino a 0.5 in un array casuale**\n",
    "Genera un array 10 x 3 con numeri casuali nell'intervallo [0,1].\n",
    "Per ogni riga, seleziona il numero più vicino a 0.5. Per farlo usa il fancy indexing."
   ]
  },
  {
   "cell_type": "code",
   "execution_count": 5,
   "metadata": {},
   "outputs": [
    {
     "name": "stdout",
     "output_type": "stream",
     "text": [
      "[[0.29294917 0.44783452 0.32143226]\n",
      " [0.48558639 0.9218436  0.06589302]\n",
      " [0.70100199 0.78666517 0.48703875]\n",
      " [0.72082379 0.5789867  0.61424608]\n",
      " [0.78639773 0.90371919 0.99724068]\n",
      " [0.94908038 0.2964912  0.26560089]\n",
      " [0.1791614  0.38234771 0.90691191]\n",
      " [0.38546505 0.28531232 0.84700917]\n",
      " [0.24667322 0.55480654 0.07167777]\n",
      " [0.35444018 0.84262288 0.89396784]]\n",
      "[0.44783452 0.48558639 0.48703875 0.5789867  0.78639773 0.2964912\n",
      " 0.38234771 0.38546505 0.55480654 0.35444018]\n"
     ]
    }
   ],
   "source": [
    "d = np.random.rand(10, 3)\n",
    "print(d)\n",
    "\n",
    "print(d[np.arange(10), np.argmin(np.abs(d - 0.5), axis=1)])"
   ]
  },
  {
   "cell_type": "markdown",
   "metadata": {},
   "source": [
    "### **4. Analisi della Frequenza Cardiaca con NumPy**\n",
    "\n",
    "1. **Supponiamo che i seguenti valori rappresentino la tua frequenza cardiaca** registrata dal tuo Fitbit durante la giornata:  \n",
    "   `68, 65, 77, 110, 160, 161, 162, 161, 160, 161, 162, 163, 164, 163, 162, 100, 90, 97, 72, 60, 70`  \n",
    "   Inserisci questi valori in un array NumPy.\n",
    "\n",
    "2. **Trova la frequenza cardiaca minima** registrata durante la giornata.  \n",
    "   _(Questo valore rappresenta approssimativamente la tua frequenza cardiaca a riposo, un comune indicatore di salute.)_\n",
    "\n",
    "3. **Trova la frequenza cardiaca massima** registrata durante la giornata.  \n",
    "   _(Questo valore è un'indicazione dell'intensità dell'esercizio fisico.)_\n",
    "\n",
    "4. **Calcoliamo la percentuale di letture effettuate mentre stavi facendo esercizio fisico (frequenza cardiaca sopra a 120)**:  \n",
    "   - Crea un nuovo array che contiene `True` quando la frequenza cardiaca è **superiore a 120**, e `False` quando è **inferiore o uguale a 120**.\n",
    "   - Utilizza una funzione di sintesi per calcolare la percentuale di osservazioni in cui la tua frequenza cardiaca era sopra 120.\n"
   ]
  },
  {
   "cell_type": "code",
   "execution_count": 6,
   "metadata": {},
   "outputs": [
    {
     "name": "stdout",
     "output_type": "stream",
     "text": [
      "60\n",
      "164\n",
      "[False False False False  True  True  True  True  True  True  True  True\n",
      "  True  True  True False False False False False False]\n",
      "52.38095238095238\n"
     ]
    }
   ],
   "source": [
    "f=np.array([68, 65, 77, 110, 160, 161, 162, 161, 160, 161, 162, 163, 164, 163, 162, 100, 90, 97, 72, 60, 70])\n",
    "print(f[np.argmin(f)])\n",
    "print(f[np.argmax(f)])\n",
    "#f2 deve essere array di True e False con True quando x>120\n",
    "f2=f>120\n",
    "print(f2)\n",
    "#funzione di sintesi per calcolare il rapporto tra elementi in f2 e elementi True in f2\n",
    "print(100*f2[f2==True].size/f2.size) #basta la media dei booleani di f2 * 100\n"
   ]
  },
  {
   "cell_type": "markdown",
   "metadata": {},
   "source": [
    "### **5. Manipolazione di vettori**\n",
    "\n",
    "1. Creare un vettore contenente i seguenti stipendi: **50.000, 105.250, 55.000, 89.000**.  \n",
    "Qual è il costo totale del personale (somma di tutti gli stipendi dell'azienda)?\n",
    "\n",
    "2. Supponiamo che il nostro malvagio CEO abbia deciso di darsi un aumento.  \n",
    "Modifica il vettore degli stipendi in modo che il CEO, la persona che guadagna **105.250 dollari**, riceva un aumento del **15%**.\n",
    "\n",
    "3. Il **115%** di **105.250 dollari** è **121.037,50 dollari**.  \n",
    "Questo valore è presente nel tuo array? Se no, riesci a capire il motivo?\n",
    "\n",
    "4. Ricrea il vettore e utilizza l'argomento **`dtype`** in modo che, quando il CEO riceve un aumento del **15%**, il suo stipendio finale sia esattamente **121.037,50 dollari**.\n",
    "\n",
    "5. Questo aumento ha infastidito l'impiegata con lo stipendio più basso (**50.000 dollari**), che ora pretende un aumento del **20%**.  \n",
    "Modifica il vettore per riflettere questo cambiamento.\n",
    "\n",
    "6. L'aumento dato al CEO e all'impiegata ha irritato gli altri due dipendenti, quindi ora devono ricevere un aumento del **10%**.  \n",
    "Modifica il vettore di conseguenza.\n",
    "\n",
    "7. Calcola il **costo totale del personale** dopo tutti gli aumenti.  \n",
    "Alla fine, quanto è costato all'azienda l'aumento di circa **16.000 dollari** del CEO?\n"
   ]
  },
  {
   "cell_type": "code",
   "execution_count": 7,
   "metadata": {},
   "outputs": [
    {
     "name": "stdout",
     "output_type": "stream",
     "text": [
      "[ 50000 105250  55000  89000] \n",
      " [ 50000.  121037.5  55000.   89000. ] \n",
      " [ 60000.  121037.5  55000.   89000. ] \n",
      " [ 60000.  121037.5  60500.   97900. ]\n",
      "40187.5\n"
     ]
    }
   ],
   "source": [
    "g=np.array([50000, 105250, 55000, 89000])\n",
    "g2 = g.astype(float)\n",
    "g2[1]=g2[1]*1.15\n",
    "g3 = g2.copy()\n",
    "g3[0]=g3[0]*1.20\n",
    "\n",
    "g4=g3.copy()\n",
    "g4[2]=g4[2]*1.10\n",
    "g4[3]=g4[3]*1.10\n",
    "print(g,'\\n',g2,'\\n',g3,'\\n',g4)\n",
    "print(g4.sum()-g.sum())\n"
   ]
  },
  {
   "cell_type": "markdown",
   "metadata": {},
   "source": [
    "### **6. Valori di Co2**\n",
    "\n",
    "1. Carica tramite numpy il file generato e salvato a lezione sulle emissioni di CO2\n",
    "\n",
    "2. Calcola quanti valori ci CO2 sono sopra la soglia di 18  tonnellate per anno ed il loro valore medio\n",
    "\n",
    "3. Calcola la frazione totale di emissione sopra la soglia (somma totale sopra la soglia/somma totale)"
   ]
  },
  {
   "cell_type": "code",
   "execution_count": 9,
   "metadata": {},
   "outputs": [],
   "source": [
    "# Generazione di 200 valori casuali di emissioni di CO2 in tonnellate per anno \n",
    "# Supponiamo emissioni tra 4 e 20 tonnellate per persona \n",
    "co2_emissions = np.round(np.random.uniform(4, 20, 200), 2)\n",
    "\n",
    "# Nome del file di output\n",
    "output_file = \"./data/emissioni.txt\"\n",
    "\n",
    "# Salvataggio su file\n",
    "np.savetxt(output_file, co2_emissions, fmt=\"%.2f\")"
   ]
  },
  {
   "cell_type": "code",
   "execution_count": 10,
   "metadata": {},
   "outputs": [
    {
     "data": {
      "text/plain": [
       "array(['16.90', '7.40', '18.47', '7.08', '8.25', '11.88', '15.93',\n",
       "       '16.28', '15.89', '8.49', '11.25', '5.36', '13.47', '14.91',\n",
       "       '9.62', '16.46', '18.90', '10.88', '10.69', '11.37', '6.90',\n",
       "       '16.32', '12.75', '11.51', '6.40', '12.63', '13.49', '6.25',\n",
       "       '12.95', '15.28', '14.72', '10.68', '14.78', '11.00', '6.49',\n",
       "       '15.54', '16.16', '15.46', '10.01', '13.58', '11.50', '10.91',\n",
       "       '15.53', '11.93', '8.98', '12.80', '8.66', '9.01', '4.28', '7.29',\n",
       "       '13.83', '10.86', '13.90', '9.92', '10.61', '14.78', '16.80',\n",
       "       '9.81', '10.21', '19.47', '6.77', '12.02', '14.50', '4.44', '9.31',\n",
       "       '14.94', '19.21', '17.64', '13.66', '17.00', '11.21', '10.00',\n",
       "       '10.02', '4.72', '9.48', '10.66', '14.09', '18.13', '13.99',\n",
       "       '18.11', '15.89', '9.28', '14.12', '17.90', '11.75', '6.19',\n",
       "       '15.27', '14.93', '7.00', '7.90', '4.67', '14.84', '7.08', '12.79',\n",
       "       '18.27', '15.41', '11.92', '17.87', '6.68', '19.22', '15.17',\n",
       "       '15.25', '15.16', '12.53', '17.96', '9.99', '8.00', '19.87',\n",
       "       '12.89', '12.59', '10.83', '10.91', '19.68', '17.70', '7.59',\n",
       "       '19.94', '6.47', '10.63', '13.06', '12.49', '15.97', '4.02',\n",
       "       '7.23', '8.08', '6.37', '4.99', '19.98', '15.87', '16.60', '13.48',\n",
       "       '15.07', '17.25', '19.88', '9.66', '18.69', '13.14', '18.82',\n",
       "       '12.96', '19.53', '9.08', '7.36', '16.47', '7.08', '18.23',\n",
       "       '17.90', '8.63', '6.69', '12.27', '14.77', '12.84', '11.46',\n",
       "       '15.10', '8.14', '14.87', '5.63', '13.89', '13.16', '14.37',\n",
       "       '17.97', '19.91', '11.59', '15.16', '19.79', '15.29', '19.55',\n",
       "       '7.32', '18.21', '19.74', '5.39', '4.14', '5.13', '17.18', '19.89',\n",
       "       '5.39', '9.02', '10.90', '13.23', '13.52', '6.09', '17.45', '9.08',\n",
       "       '6.06', '5.97', '16.41', '6.41', '4.58', '14.83', '12.75', '17.42',\n",
       "       '14.04', '11.56', '11.28', '8.78', '6.71', '4.50', '7.61', '17.52',\n",
       "       '15.41', '10.30', '11.26'], dtype='<U5')"
      ]
     },
     "execution_count": 10,
     "metadata": {},
     "output_type": "execute_result"
    }
   ],
   "source": [
    "emissioni = np.loadtxt(output_file, delimiter=\",\", dtype=str)\n",
    "emissioni"
   ]
  },
  {
   "cell_type": "code",
   "execution_count": 18,
   "metadata": {},
   "outputs": [
    {
     "data": {
      "text/plain": [
       "np.float64(19.195217391304347)"
      ]
     },
     "execution_count": 18,
     "metadata": {},
     "output_type": "execute_result"
    }
   ],
   "source": [
    "emissioni_numeric = emissioni.astype(float)  # Convert to numeric type\n",
    "emissioni18 = emissioni_numeric > 18\n",
    "sum(emissioni_numeric[emissioni18])/sum(emissioni18)"
   ]
  },
  {
   "cell_type": "code",
   "execution_count": 20,
   "metadata": {},
   "outputs": [
    {
     "data": {
      "text/plain": [
       "np.float64(0.1779541460425971)"
      ]
     },
     "execution_count": 20,
     "metadata": {},
     "output_type": "execute_result"
    }
   ],
   "source": [
    "sum(emissioni_numeric[emissioni18])/sum(emissioni_numeric)"
   ]
  },
  {
   "cell_type": "markdown",
   "metadata": {},
   "source": [
    "### **7. Analisi di una matrice**\n",
    "Data la matrice survey con età, reddito e anni di istruzione\n",
    "\n",
    "survey_matrix = np.array([\n",
    "    [25, 40000, 10],\n",
    "    [32, 52000, 12],\n",
    "    [40, 63000, 14],\n",
    "    [29, 47000, 11],\n",
    "    [35, 58000, 13]\n",
    "])\n",
    "\n",
    "\n",
    "1. Seleziona dalla matrice solo gli intervistati con **almeno 12 anni di istruzione** utilizzando un test logico.\n",
    "\n",
    "2. In un'unica riga di codice, seleziona i **redditi** degli intervistati con **almeno 12 anni di istruzione**.\n",
    "\n",
    "3. In un'unica riga di codice, calcola il **reddito medio** degli intervistati con **almeno 12 anni di istruzione**.\n"
   ]
  },
  {
   "cell_type": "code",
   "execution_count": 27,
   "metadata": {},
   "outputs": [
    {
     "data": {
      "text/plain": [
       "np.float64(57666.666666666664)"
      ]
     },
     "execution_count": 27,
     "metadata": {},
     "output_type": "execute_result"
    }
   ],
   "source": [
    "survey_matrix = np.array([\n",
    "    [25, 40000, 10],\n",
    "    [32, 52000, 12],\n",
    "    [40, 63000, 14],\n",
    "    [29, 47000, 11],\n",
    "    [35, 58000, 13]\n",
    "])\n",
    "#test logico per prendere solo le righe con colonna tre >=12\n",
    "survey_matrix[survey_matrix[:, 2] >= 12]\n",
    "survey_matrix[survey_matrix[:, 2] >= 12,1]\n",
    "sum(survey_matrix[survey_matrix[:, 2] >= 12,1])/sum(survey_matrix[:, 2] >= 12)\n",
    "    \n"
   ]
  },
  {
   "cell_type": "markdown",
   "metadata": {},
   "source": []
  },
  {
   "cell_type": "markdown",
   "metadata": {},
   "source": [
    "### **8. Rimpiazzare gli outliers**\n",
    "\n",
    "Vediamo se possiamo ripulire alcuni dati mancanti. Immagina di essere il responsabile dei registri di un comune locale con **500 cittadini** di **55 anni e oltre**.  \n",
    "\n",
    "La città è famosa per la sua longevità e un team di ricercatori ti ha chiesto di identificare **il cittadino più anziano**.  \n",
    "\n",
    "Il problema è che, occasionalmente, nei registri si verificano errori e in quei casi viene inserita l'età **999** invece dell'età corretta.  \n",
    "\n",
    "Rimuovi i dati errati dall'array e determina l'età del cittadino più anziano.\n"
   ]
  },
  {
   "cell_type": "code",
   "execution_count": 29,
   "metadata": {},
   "outputs": [],
   "source": [
    "ages = np.array([92, 108, 75, 63, 62, 66, 90, 98, 97, 92, 60, 107, 90, 71, 97, 86, 55, 55,\n",
    "                 98, 57, 96, 104, 96, 94, 72, 98, 111, 98, 89, 69, 77, 92, 85, 101, 93, 100,\n",
    "                 90, 101, 96, 98, 999, 87, 106, 86, 108, 55, 67, 65, 68, 59, 67, 72, 57, 79,\n",
    "                 95, 67, 86, 70, 91, 111, 67, 75, 59, 88, 90, 99, 94, 65, 111, 103, 100, 70,\n",
    "                 63, 65, 100, 110, 999, 70, 57, 75, 56, 104, 111, 90, 74, 100, 90, 86, 88, 99,\n",
    "                 58, 103, 88, 103, 64, 96, 105, 89, 83, 65, 100, 62, 73, 105, 83, 105, 58, 96,\n",
    "                 77, 74, 95, 109, 91, 101, 91, 999, 63, 111, 97, 108, 75, 77, 73, 58, 94, 83,\n",
    "                 90, 61, 110, 107, 105, 85, 64, 66, 71, 107, 105, 72, 78, 66, 100, 102, 72, 999,\n",
    "                 74, 68, 73, 72, 90, 93, 99, 55, 92, 83, 58, 71, 89, 75, 98, 87, 999, 78,\n",
    "                 97, 71, 106, 83, 58, 81, 100, 72, 93, 70, 65, 60, 95, 107, 94, 77, 87, 90,\n",
    "                 82, 56, 99, 107, 86, 56, 73, 96, 64, 69, 64, 92, 57, 104, 110, 69, 66, 68,\n",
    "                 84, 89, 72, 80, 55, 75, 87, 57, 106, 69, 66, 62, 102, 76, 111, 999, 96, 83,\n",
    "                 84, 61, 102, 63, 107, 63, 76, 58, 83, 58, 61, 71, 77, 90, 74, 100, 103, 74,\n",
    "                 92, 102, 63, 87, 93, 61, 63, 86, 74, 98, 64, 999, 78, 95, 84, 81, 107, 85,\n",
    "                 79, 82, 89, 65, 107, 57, 74, 77, 97, 92, 58, 96, 105, 60, 55, 74, 57, 80,\n",
    "                 62, 85, 87, 62, 999, 71, 74, 70, 97, 59, 82, 96, 105, 70, 89, 105, 60, 70,\n",
    "                 87, 999, 64, 108, 107, 104, 85, 95, 108, 74, 64, 97, 89, 88, 79, 67, 81, 92,\n",
    "                 63, 80, 76, 94, 104, 67, 73, 61, 99, 96, 68, 90, 86, 79, 85, 111, 75, 98,\n",
    "                 81, 111, 108, 103, 85, 72, 108, 102, 999, 64, 107, 112, 66, 93, 89, 78, 66, 92,\n",
    "                 63, 101, 92, 64, 72, 56, 71, 64, 87, 78, 107, 85, 109, 95, 69, 111, 64, 72,\n",
    "                 55, 66, 99, 57, 78, 55, 58, 90, 88, 71, 90, 103, 92, 98, 67, 97, 77, 68,\n",
    "                 77, 59, 78, 69, 77, 81, 61, 99, 999, 85, 78, 104, 97, 95, 74, 70, 69, 83,\n",
    "                 68, 68, 77, 60, 85, 82, 93, 66, 71, 62, 64, 107, 999, 65, 78, 59, 83, 67,\n",
    "                 108,  58,  95, 106,  83,  79,  67,  59,  96,  90,  55,  55,  96, 109,  82,  55, 101,  58,\n",
    "                 97, 77, 60, 81, 999, 81, 75, 100, 66, 65, 105, 94, 101, 56, 999, 59, 105, 59,\n",
    "                 93, 56, 104, 74, 81, 62, 76, 65, 107, 60, 107, 98, 77, 86, 83, 104, 74, 69,\n",
    "                 97, 80, 91, 56, 108, 87, 65, 91, 93, 60, 91, 110, 107, 88, 96, 70, 60, 99,\n",
    "                 66, 91, 107, 65, 81, 109, 84, 106, 80, 92, 78, 84, 91, 59])"
   ]
  },
  {
   "cell_type": "code",
   "execution_count": 30,
   "metadata": {},
   "outputs": [
    {
     "data": {
      "text/plain": [
       "np.int64(112)"
      ]
     },
     "execution_count": 30,
     "metadata": {},
     "output_type": "execute_result"
    }
   ],
   "source": [
    "ages2=ages[ages!=999]\n",
    "max(ages2)"
   ]
  },
  {
   "cell_type": "markdown",
   "metadata": {},
   "source": [
    "### 9.**Generazione random di storie**\n",
    "\n",
    "Usando la lista qui sotto, estrai casualmente **5 parole con reinserimento** (cioè, i duplicati sono ammessi).  \n",
    "\n",
    "Successivamente, inserisci casualmente queste parole negli spazi vuoti (indicati con \"_\") nella seguente frase:\n",
    "\n",
    "*\"In epoche passate, viveva una donna saggia che era molto orgogliosa dell'antico __ che proteggeva. Quando un anziano del villaggio venne a chiederle consiglio su come garantire al meglio un raccolto abbondante e le offrì il __ come dono, i suoi occhi si spalancarono e lei esclamò una sola parola, \"__\".  \n",
    "Radunò il villaggio e, per i successivi 100 giorni, su sua richiesta, gli abitanti cercarono nella foresta un __.  \n",
    "Nel 101° giorno, il bambino più giovane del villaggio trovò ciò che stavano cercando e tutti corsero dalla donna saggia per donarglielo.  \n",
    "Con un sorriso da un orecchio all’altro, e cantando canti di festa, la donna saggia guardò i suoi compaesani e disse: \"Ora è giunto il tempo del banchetto - nessuno rimarrà mai più senza _!\" Ci fu grande gioia e celebrazione.\"*\n"
   ]
  },
  {
   "cell_type": "code",
   "execution_count": 31,
   "metadata": {},
   "outputs": [],
   "source": [
    "lista_parole = [\n",
    "    'INSEDIAMENTO', 'SEPARAZIONE', 'DIFFERENZA', 'APPLICAZIONE', 'ATTEGGIAMENTO', 'VERDURA', 'IMPERO', 'RICEVIMENTO',\n",
    "    'IGNORANZA', 'BIOGRAFIA', 'VISIONE', 'AGENTE DI POLIZIA', 'PROVA', 'PRESTAZIONE', 'PRESENTAZIONE', 'PARENTE',\n",
    "    'GIUSTIFICAZIONE', 'FILOSOFIA', 'DIREZIONE', 'BENEFICIARIO', 'BATTERIA', 'CERIMONIA', 'AGONIA', 'RECUPERO',\n",
    "    'ALFABETIZZAZIONE', 'CONSEGNA', 'SERBATOIO', 'VOLONTARIO', 'DEPOSITO', 'BIRILLO DA BOWLING', 'NEMICO', 'ANNUNCIO',\n",
    "    'CARAMELLA ZUCCHERATA', 'FULMINE', 'PALLONCINO', 'COPERTA', 'SCOPERTA', 'PENALITÀ', 'GENERALE', 'ALPACA',\n",
    "    'VANTAGGIO', 'HOT DOG', 'ABITO', 'MATEMATICA', 'VARIANTE'\n",
    "]\n",
    "\n"
   ]
  },
  {
   "cell_type": "markdown",
   "metadata": {},
   "source": [
    "Esempio di output\n",
    "\n",
    "\n",
    "\"In epoche passate, viveva una donna saggia che era molto orgogliosa dell'antico APPLICAZIONE che proteggeva. \n",
    "Quando un anziano del villaggio venne a chiederle consiglio su come garantire al meglio un raccolto abbondante \n",
    "e le offrì il DEPOSITO come dono, i suoi occhi si spalancarono e lei esclamò una sola parola, \"PRESTAZIONE\".  \n",
    "\n",
    "Radunò il villaggio e, per i successivi 100 giorni, su sua richiesta, gli abitanti cercarono nella foresta un BIRILLO DA BOWLING. \n",
    "Nel 101° giorno, il bambino più giovane del villaggio trovò ciò che stavano cercando e tutti corsero dalla donna saggia per donarglielo. \n",
    "Con un sorriso da un orecchio all’altro, e cantando canti di festa, la donna saggia guardò i suoi compaesani e disse: \n",
    "\"Ora è giunto il tempo del banchetto - nessuno rimarrà mai più senza GIUSTIFICAZIONE!\"  \n",
    "\n",
    "Ci fu grande gioia e celebrazione.\""
   ]
  },
  {
   "cell_type": "code",
   "execution_count": 35,
   "metadata": {},
   "outputs": [
    {
     "name": "stdout",
     "output_type": "stream",
     "text": [
      "['VOLONTARIO' 'VOLONTARIO' 'CARAMELLA ZUCCHERATA' 'RECUPERO' 'ALPACA']\n",
      "\n",
      "In epoche passate, viveva una donna saggia che era molto orgogliosa dell'antico __ che proteggeva. Quando un anziano del villaggio venne a chiederle consiglio su come garantire al meglio un raccolto abbondante e le offrì il __ come dono, i suoi occhi si spalancarono e lei esclamò una sola parola, \"__\".  \n",
      "\n",
      "Radunò il villaggio e, per i successivi 100 giorni, su sua richiesta, gli abitanti cercarono nella foresta un __.  \n",
      "Nel 101° giorno, il bambino più giovane del villaggio trovò ciò che stavano cercando e tutti corsero dalla donna saggia per donarglielo.  \n",
      "Con un sorriso da un orecchio all’altro, e cantando canti di festa, la donna saggia guardò i suoi compaesani e disse: \"Ora è giunto il tempo del banchetto - nessuno rimarrà mai più senza __!\"\n",
      "\n",
      "Ci fu grande gioia e celebrazione.\n",
      "\n",
      "In epoche passate, viveva una donna saggia che era molto orgogliosa dell'antico VOLONTARIO che proteggeva. Quando un anziano del villaggio venne a chiederle consiglio su come garantire al meglio un raccolto abbondante e le offrì il VOLONTARIO come dono, i suoi occhi si spalancarono e lei esclamò una sola parola, \"CARAMELLA ZUCCHERATA\".  \n",
      "\n",
      "Radunò il villaggio e, per i successivi 100 giorni, su sua richiesta, gli abitanti cercarono nella foresta un RECUPERO.  \n",
      "Nel 101° giorno, il bambino più giovane del villaggio trovò ciò che stavano cercando e tutti corsero dalla donna saggia per donarglielo.  \n",
      "Con un sorriso da un orecchio all’altro, e cantando canti di festa, la donna saggia guardò i suoi compaesani e disse: \"Ora è giunto il tempo del banchetto - nessuno rimarrà mai più senza ALPACA!\"\n",
      "\n",
      "Ci fu grande gioia e celebrazione.\n"
     ]
    }
   ],
   "source": [
    "#estrai 5 parole casuali con reinserimento da lista_parole\n",
    "parole=np.random.choice(lista_parole, 5, replace=True)\n",
    "print(parole)\n",
    "testo_incompleto= \"\\nIn epoche passate, viveva una donna saggia che era molto orgogliosa dell'antico __ che proteggeva. Quando un anziano del villaggio venne a chiederle consiglio su come garantire al meglio un raccolto abbondante e le offrì il __ come dono, i suoi occhi si spalancarono e lei esclamò una sola parola, \\\"__\\\".  \\n\\nRadunò il villaggio e, per i successivi 100 giorni, su sua richiesta, gli abitanti cercarono nella foresta un __.  \\nNel 101° giorno, il bambino più giovane del villaggio trovò ciò che stavano cercando e tutti corsero dalla donna saggia per donarglielo.  \\nCon un sorriso da un orecchio all’altro, e cantando canti di festa, la donna saggia guardò i suoi compaesani e disse: \\\"Ora è giunto il tempo del banchetto - nessuno rimarrà mai più senza __!\\\"\\n\\nCi fu grande gioia e celebrazione.\"\n",
    "print(testo_incompleto)\n",
    "for parola in parole:\n",
    "    testo_incompleto = testo_incompleto.replace('__', parola, 1)\n",
    "print(testo_incompleto)"
   ]
  }
 ],
 "metadata": {
  "kernelspec": {
   "display_name": "TheLab",
   "language": "python",
   "name": "python3"
  },
  "language_info": {
   "codemirror_mode": {
    "name": "ipython",
    "version": 3
   },
   "file_extension": ".py",
   "mimetype": "text/x-python",
   "name": "python",
   "nbconvert_exporter": "python",
   "pygments_lexer": "ipython3",
   "version": "3.12.9"
  }
 },
 "nbformat": 4,
 "nbformat_minor": 2
}
